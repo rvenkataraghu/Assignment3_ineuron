{
 "cells": [
  {
   "cell_type": "markdown",
   "metadata": {},
   "source": [
    "# Assignment 3"
   ]
  },
  {
   "cell_type": "markdown",
   "metadata": {},
   "source": [
    "Task 1:"
   ]
  },
  {
   "cell_type": "markdown",
   "metadata": {},
   "source": [
    "1.\n",
    "Write a function to compute 5/0 and use try/except to catch the exceptions."
   ]
  },
  {
   "cell_type": "code",
   "execution_count": null,
   "metadata": {},
   "outputs": [],
   "source": [
    "Solution 1:"
   ]
  },
  {
   "cell_type": "code",
   "execution_count": 1,
   "metadata": {},
   "outputs": [
    {
     "name": "stdout",
     "output_type": "stream",
     "text": [
      "Divisible by zero\n"
     ]
    }
   ],
   "source": [
    "try:\n",
    "    5/0\n",
    "except:\n",
    "    print(\"Divisible by zero\")"
   ]
  },
  {
   "cell_type": "code",
   "execution_count": null,
   "metadata": {},
   "outputs": [],
   "source": [
    "Solution 2:"
   ]
  },
  {
   "cell_type": "code",
   "execution_count": 4,
   "metadata": {},
   "outputs": [
    {
     "name": "stdout",
     "output_type": "stream",
     "text": [
      "division by zero\n"
     ]
    }
   ],
   "source": [
    "try:\n",
    "    5/0\n",
    "except Exception as e:\n",
    "    print(e)"
   ]
  },
  {
   "cell_type": "markdown",
   "metadata": {},
   "source": [
    "2.\n",
    "Implement a Python program to generate all sentences where subject is in [\"Americans\",\"Indians\"] and verb is in [\"Play\", \"watch\"] and the object is in [\"Baseball\",\"cricket\"].\n",
    "\n",
    "Hint: Subject,Verb and Object should be declared in the program as shown below.\n",
    "\n",
    "subjects=[\"Americans \",\"Indians\"]\n",
    "verbs=[\"play\",\"watch\"]\n",
    "objects=[\"Baseball\",\"Cricket\"]\n",
    "\n",
    "Output should come as below:\n",
    "Americans play Baseball.\n",
    "Americans play Cricket.\n",
    "Americans watch Baseball.\n",
    "Americans watch Cricket.\n",
    "Indians play Baseball.\n",
    "Indians play Cricket.\n",
    "Indians watch Baseball.\n",
    "Indians watch Cricket."
   ]
  },
  {
   "cell_type": "code",
   "execution_count": 7,
   "metadata": {},
   "outputs": [
    {
     "name": "stdout",
     "output_type": "stream",
     "text": [
      "Americans play Baseball\n",
      "Americans play Cricket\n",
      "Americans watch Baseball\n",
      "Americans watch Cricket\n",
      "Indians play Baseball\n",
      "Indians play Cricket\n",
      "Indians watch Baseball\n",
      "Indians watch Cricket\n"
     ]
    }
   ],
   "source": [
    "subjects=[\"Americans\",\"Indians\"]\n",
    "verbs=[\"play\",\"watch\"]\n",
    "objects=[\"Baseball\",\"Cricket\"]\n",
    "\n",
    "for sub in subjects:\n",
    "    for verb in verbs:\n",
    "        for obj in objects:\n",
    "            print(sub + \" \"+ verb + \" \" + obj)"
   ]
  },
  {
   "cell_type": "markdown",
   "metadata": {},
   "source": [
    "Task 2:"
   ]
  },
  {
   "cell_type": "markdown",
   "metadata": {},
   "source": [
    "1.\n",
    "Write a function so that the columns of the output matrix are powers of the input vector.\n",
    "\n",
    "The order of the powers is determined by the increasing boolean argument. Specifically, when increasing is False, the i-th output column is the input vector raised element-wise to the power of N - i - 1.\n",
    "\n",
    "HINT: Such a matrix with a geometric progression in each row is named for Alexandre-Theophile Vandermonde."
   ]
  },
  {
   "cell_type": "code",
   "execution_count": 22,
   "metadata": {},
   "outputs": [],
   "source": [
    "def vander(list1, num_of_col):\n",
    "    print(\"Matrix with increasing order\")\n",
    "    list2 = []\n",
    "    for i in list1:\n",
    "        list2.clear()\n",
    "        num = 0\n",
    "        while(num<num_of_col):\n",
    "            list2.append(i**num)\n",
    "            num = num+1\n",
    "        print(list2)\n",
    "            \n",
    "    print(\"Matrix with decreasing order\")\n",
    "    list2 = []\n",
    "    for i in list1:\n",
    "        list2.clear()\n",
    "        num = num_of_col - 1\n",
    "        while(num>=0):\n",
    "            list2.append(i**num)\n",
    "            num = num-1\n",
    "        print(list2)\n",
    "    \n"
   ]
  },
  {
   "cell_type": "code",
   "execution_count": 23,
   "metadata": {},
   "outputs": [
    {
     "name": "stdout",
     "output_type": "stream",
     "text": [
      "Matrix with increasing order\n",
      "[1, 1, 1]\n",
      "[1, 2, 4]\n",
      "[1, 3, 9]\n",
      "[1, 4, 16]\n",
      "[1, 5, 25]\n",
      "Matrix with decreasing order\n",
      "[1, 1, 1]\n",
      "[4, 2, 1]\n",
      "[9, 3, 1]\n",
      "[16, 4, 1]\n",
      "[25, 5, 1]\n"
     ]
    }
   ],
   "source": [
    "vander([1,2,3,4,5], 3)"
   ]
  },
  {
   "cell_type": "code",
   "execution_count": 24,
   "metadata": {},
   "outputs": [
    {
     "name": "stdout",
     "output_type": "stream",
     "text": [
      "Matrix with increasing order\n",
      "[1, 1, 1, 1, 1]\n",
      "[1, 2, 4, 8, 16]\n",
      "[1, 3, 9, 27, 81]\n",
      "[1, 4, 16, 64, 256]\n",
      "[1, 5, 25, 125, 625]\n",
      "Matrix with decreasing order\n",
      "[1, 1, 1, 1, 1]\n",
      "[16, 8, 4, 2, 1]\n",
      "[81, 27, 9, 3, 1]\n",
      "[256, 64, 16, 4, 1]\n",
      "[625, 125, 25, 5, 1]\n"
     ]
    }
   ],
   "source": [
    "vander([1,2,3,4,5], 5)"
   ]
  },
  {
   "cell_type": "code",
   "execution_count": 25,
   "metadata": {},
   "outputs": [
    {
     "name": "stdout",
     "output_type": "stream",
     "text": [
      "Matrix with increasing order\n",
      "[1, 7, 49, 343, 2401]\n",
      "[1, 8, 64, 512, 4096]\n",
      "[1, 3, 9, 27, 81]\n",
      "[1, 9, 81, 729, 6561]\n",
      "[1, 4, 16, 64, 256]\n",
      "Matrix with decreasing order\n",
      "[2401, 343, 49, 7, 1]\n",
      "[4096, 512, 64, 8, 1]\n",
      "[81, 27, 9, 3, 1]\n",
      "[6561, 729, 81, 9, 1]\n",
      "[256, 64, 16, 4, 1]\n"
     ]
    }
   ],
   "source": [
    "vander([7,8,3,9,4], 5)"
   ]
  },
  {
   "cell_type": "code",
   "execution_count": null,
   "metadata": {},
   "outputs": [],
   "source": []
  }
 ],
 "metadata": {
  "kernelspec": {
   "display_name": "Python 3",
   "language": "python",
   "name": "python3"
  },
  "language_info": {
   "codemirror_mode": {
    "name": "ipython",
    "version": 3
   },
   "file_extension": ".py",
   "mimetype": "text/x-python",
   "name": "python",
   "nbconvert_exporter": "python",
   "pygments_lexer": "ipython3",
   "version": "3.7.4"
  }
 },
 "nbformat": 4,
 "nbformat_minor": 2
}
